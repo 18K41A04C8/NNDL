{
  "nbformat": 4,
  "nbformat_minor": 0,
  "metadata": {
    "colab": {
      "name": "Assignment-16",
      "provenance": [],
      "collapsed_sections": []
    },
    "kernelspec": {
      "name": "python3",
      "display_name": "Python 3"
    },
    "language_info": {
      "name": "python"
    }
  },
  "cells": [
    {
      "cell_type": "markdown",
      "metadata": {
        "id": "1nBIuSsc4oZr"
      },
      "source": [
        "Build a simple linear regression model using RMSprop + SGD optimizer to help 33/11KV substation electric utility to trade power effectively in an day ahead energy market by estimating load at a particular hour based on the load at one hour and one day before. Dataset : Active power load dataset. \n"
      ]
    },
    {
      "cell_type": "code",
      "metadata": {
        "id": "4emIXEoB4qh2"
      },
      "source": [
        "import numpy as np\n",
        "import matplotlib.pyplot as plt\n",
        "import pandas as pd\n",
        "from sklearn.preprocessing import minmax_scale\n",
        "from sklearn.model_selection import train_test_split\n",
        "import seaborn as sns\n",
        "from scipy import stats"
      ],
      "execution_count": null,
      "outputs": []
    },
    {
      "cell_type": "markdown",
      "metadata": {
        "id": "8Bh8xV5946ei"
      },
      "source": [
        "**Read data:**"
      ]
    },
    {
      "cell_type": "code",
      "metadata": {
        "colab": {
          "base_uri": "https://localhost:8080/",
          "height": 198
        },
        "id": "jFHjyueL49WJ",
        "outputId": "236aca69-2113-42d0-aab9-5d65dee3ec1b"
      },
      "source": [
        "data=pd.read_excel(\"Load_Data_in_kW.xlsx\",header=None)\n",
        "data.head()"
      ],
      "execution_count": null,
      "outputs": [
        {
          "output_type": "execute_result",
          "data": {
            "text/html": [
              "<div>\n",
              "<style scoped>\n",
              "    .dataframe tbody tr th:only-of-type {\n",
              "        vertical-align: middle;\n",
              "    }\n",
              "\n",
              "    .dataframe tbody tr th {\n",
              "        vertical-align: top;\n",
              "    }\n",
              "\n",
              "    .dataframe thead th {\n",
              "        text-align: right;\n",
              "    }\n",
              "</style>\n",
              "<table border=\"1\" class=\"dataframe\">\n",
              "  <thead>\n",
              "    <tr style=\"text-align: right;\">\n",
              "      <th></th>\n",
              "      <th>0</th>\n",
              "    </tr>\n",
              "  </thead>\n",
              "  <tbody>\n",
              "    <tr>\n",
              "      <th>0</th>\n",
              "      <td>5551.82208</td>\n",
              "    </tr>\n",
              "    <tr>\n",
              "      <th>1</th>\n",
              "      <td>4983.17184</td>\n",
              "    </tr>\n",
              "    <tr>\n",
              "      <th>2</th>\n",
              "      <td>4888.39680</td>\n",
              "    </tr>\n",
              "    <tr>\n",
              "      <th>3</th>\n",
              "      <td>5072.95872</td>\n",
              "    </tr>\n",
              "    <tr>\n",
              "      <th>4</th>\n",
              "      <td>5196.25980</td>\n",
              "    </tr>\n",
              "  </tbody>\n",
              "</table>\n",
              "</div>"
            ],
            "text/plain": [
              "            0\n",
              "0  5551.82208\n",
              "1  4983.17184\n",
              "2  4888.39680\n",
              "3  5072.95872\n",
              "4  5196.25980"
            ]
          },
          "metadata": {
            "tags": []
          },
          "execution_count": 2
        }
      ]
    },
    {
      "cell_type": "code",
      "metadata": {
        "colab": {
          "base_uri": "https://localhost:8080/"
        },
        "id": "t4m1XNWb5O5y",
        "outputId": "3ccf93a4-b795-42ef-f5fb-d41fe9cc895a"
      },
      "source": [
        "data.info()"
      ],
      "execution_count": null,
      "outputs": [
        {
          "output_type": "stream",
          "text": [
            "<class 'pandas.core.frame.DataFrame'>\n",
            "RangeIndex: 2184 entries, 0 to 2183\n",
            "Data columns (total 1 columns):\n",
            " #   Column  Non-Null Count  Dtype  \n",
            "---  ------  --------------  -----  \n",
            " 0   0       2184 non-null   float64\n",
            "dtypes: float64(1)\n",
            "memory usage: 17.2 KB\n"
          ],
          "name": "stdout"
        }
      ]
    },
    {
      "cell_type": "markdown",
      "metadata": {
        "id": "BEje99ap5Rdm"
      },
      "source": [
        "**Outliers:**"
      ]
    },
    {
      "cell_type": "code",
      "metadata": {
        "colab": {
          "base_uri": "https://localhost:8080/"
        },
        "id": "S7sqhY-95T7Z",
        "outputId": "f19b95ab-c366-4dc5-ce62-8b4930cd728b"
      },
      "source": [
        "z=np.abs(stats.zscore(data))\n",
        "print(z)"
      ],
      "execution_count": null,
      "outputs": [
        {
          "output_type": "stream",
          "text": [
            "[[0.04910416]\n",
            " [0.08229029]\n",
            " [0.08782131]\n",
            " ...\n",
            " [0.09743692]\n",
            " [0.07253822]\n",
            " [0.03181432]]\n"
          ],
          "name": "stdout"
        }
      ]
    },
    {
      "cell_type": "code",
      "metadata": {
        "colab": {
          "base_uri": "https://localhost:8080/",
          "height": 297
        },
        "id": "IaqmFbEs5b5h",
        "outputId": "ab9fcf9e-2746-4581-86b0-8850e682eaaf"
      },
      "source": [
        "sns.boxplot(x=data[0])"
      ],
      "execution_count": null,
      "outputs": [
        {
          "output_type": "execute_result",
          "data": {
            "text/plain": [
              "<matplotlib.axes._subplots.AxesSubplot at 0x7f207d990450>"
            ]
          },
          "metadata": {
            "tags": []
          },
          "execution_count": 5
        },
        {
          "output_type": "display_data",
          "data": {
            "image/png": "[encoded data removed]",
            "text/plain": [
              "<Figure size 432x288 with 1 Axes>"
            ]
          },
          "metadata": {
            "tags": [],
            "needs_background": "light"
          }
        }
      ]
    },
    {
      "cell_type": "code",
      "metadata": {
        "colab": {
          "base_uri": "https://localhost:8080/",
          "height": 198
        },
        "id": "SY07x7FF5g2i",
        "outputId": "1048974e-f3c5-49f7-fc47-b653cf659348"
      },
      "source": [
        "df=data\n",
        "q=df[0].quantile(0.99)\n",
        "df[df[0]<q]\n",
        "q_low=df[0].quantile(0.01)\n",
        "q_hi=df[0].quantile(0.99)\n",
        "df_filtered=df[(df[0]<q_hi)&(df[0]>q_low)]\n",
        "df_filtered.head()"
      ],
      "execution_count": null,
      "outputs": [
        {
          "output_type": "execute_result",
          "data": {
            "text/html": [
              "<div>\n",
              "<style scoped>\n",
              "    .dataframe tbody tr th:only-of-type {\n",
              "        vertical-align: middle;\n",
              "    }\n",
              "\n",
              "    .dataframe tbody tr th {\n",
              "        vertical-align: top;\n",
              "    }\n",
              "\n",
              "    .dataframe thead th {\n",
              "        text-align: right;\n",
              "    }\n",
              "</style>\n",
              "<table border=\"1\" class=\"dataframe\">\n",
              "  <thead>\n",
              "    <tr style=\"text-align: right;\">\n",
              "      <th></th>\n",
              "      <th>0</th>\n",
              "    </tr>\n",
              "  </thead>\n",
              "  <tbody>\n",
              "    <tr>\n",
              "      <th>0</th>\n",
              "      <td>5551.82208</td>\n",
              "    </tr>\n",
              "    <tr>\n",
              "      <th>1</th>\n",
              "      <td>4983.17184</td>\n",
              "    </tr>\n",
              "    <tr>\n",
              "      <th>2</th>\n",
              "      <td>4888.39680</td>\n",
              "    </tr>\n",
              "    <tr>\n",
              "      <th>3</th>\n",
              "      <td>5072.95872</td>\n",
              "    </tr>\n",
              "    <tr>\n",
              "      <th>4</th>\n",
              "      <td>5196.25980</td>\n",
              "    </tr>\n",
              "  </tbody>\n",
              "</table>\n",
              "</div>"
            ],
            "text/plain": [
              "            0\n",
              "0  5551.82208\n",
              "1  4983.17184\n",
              "2  4888.39680\n",
              "3  5072.95872\n",
              "4  5196.25980"
            ]
          },
          "metadata": {
            "tags": []
          },
          "execution_count": 6
        }
      ]
    },
    {
      "cell_type": "code",
      "metadata": {
        "colab": {
          "base_uri": "https://localhost:8080/"
        },
        "id": "0NKTH18h5uvF",
        "outputId": "171c91ee-2a3e-4fe0-8715-4dafd64f1b13"
      },
      "source": [
        "print(len(data))\n",
        "print(len(df_filtered))\n",
        "if(len(data)==len(df_filtered)):\n",
        "    print('No outliers')"
      ],
      "execution_count": null,
      "outputs": [
        {
          "output_type": "stream",
          "text": [
            "2184\n",
            "2140\n"
          ],
          "name": "stdout"
        }
      ]
    },
    {
      "cell_type": "markdown",
      "metadata": {
        "id": "ZUvURt7950y8"
      },
      "source": [
        "**Normalisation:**"
      ]
    },
    {
      "cell_type": "code",
      "metadata": {
        "colab": {
          "base_uri": "https://localhost:8080/",
          "height": 198
        },
        "id": "8t_23bGr53Ui",
        "outputId": "4b44f87c-9038-4800-da82-820e66d7688d"
      },
      "source": [
        "data=df_filtered\n",
        "data_n=data.copy()\n",
        "data_n=(data_n-data_n.min())/(data_n.max()-data_n.min())\n",
        "data_n.head()"
      ],
      "execution_count": null,
      "outputs": [
        {
          "output_type": "execute_result",
          "data": {
            "text/html": [
              "<div>\n",
              "<style scoped>\n",
              "    .dataframe tbody tr th:only-of-type {\n",
              "        vertical-align: middle;\n",
              "    }\n",
              "\n",
              "    .dataframe tbody tr th {\n",
              "        vertical-align: top;\n",
              "    }\n",
              "\n",
              "    .dataframe thead th {\n",
              "        text-align: right;\n",
              "    }\n",
              "</style>\n",
              "<table border=\"1\" class=\"dataframe\">\n",
              "  <thead>\n",
              "    <tr style=\"text-align: right;\">\n",
              "      <th></th>\n",
              "      <th>0</th>\n",
              "    </tr>\n",
              "  </thead>\n",
              "  <tbody>\n",
              "    <tr>\n",
              "      <th>0</th>\n",
              "      <td>0.372950</td>\n",
              "    </tr>\n",
              "    <tr>\n",
              "      <th>1</th>\n",
              "      <td>0.254941</td>\n",
              "    </tr>\n",
              "    <tr>\n",
              "      <th>2</th>\n",
              "      <td>0.235273</td>\n",
              "    </tr>\n",
              "    <tr>\n",
              "      <th>3</th>\n",
              "      <td>0.273574</td>\n",
              "    </tr>\n",
              "    <tr>\n",
              "      <th>4</th>\n",
              "      <td>0.299162</td>\n",
              "    </tr>\n",
              "  </tbody>\n",
              "</table>\n",
              "</div>"
            ],
            "text/plain": [
              "          0\n",
              "0  0.372950\n",
              "1  0.254941\n",
              "2  0.235273\n",
              "3  0.273574\n",
              "4  0.299162"
            ]
          },
          "metadata": {
            "tags": []
          },
          "execution_count": 9
        }
      ]
    },
    {
      "cell_type": "markdown",
      "metadata": {
        "id": "lSfdYs-C6Bik"
      },
      "source": [
        "**Split Data:**"
      ]
    },
    {
      "cell_type": "code",
      "metadata": {
        "id": "WFfpz-Lc6EqS"
      },
      "source": [
        "train_data,test_data=train_test_split(data_n,test_size=0.1)"
      ],
      "execution_count": null,
      "outputs": []
    },
    {
      "cell_type": "code",
      "metadata": {
        "colab": {
          "base_uri": "https://localhost:8080/",
          "height": 216
        },
        "id": "FzY0urOs6MTC",
        "outputId": "ffe671a2-14ce-48c5-8046-48429016d41f"
      },
      "source": [
        "print(len(train_data))\n",
        "train_data.head()"
      ],
      "execution_count": null,
      "outputs": [
        {
          "output_type": "stream",
          "text": [
            "1926\n"
          ],
          "name": "stdout"
        },
        {
          "output_type": "execute_result",
          "data": {
            "text/html": [
              "<div>\n",
              "<style scoped>\n",
              "    .dataframe tbody tr th:only-of-type {\n",
              "        vertical-align: middle;\n",
              "    }\n",
              "\n",
              "    .dataframe tbody tr th {\n",
              "        vertical-align: top;\n",
              "    }\n",
              "\n",
              "    .dataframe thead th {\n",
              "        text-align: right;\n",
              "    }\n",
              "</style>\n",
              "<table border=\"1\" class=\"dataframe\">\n",
              "  <thead>\n",
              "    <tr style=\"text-align: right;\">\n",
              "      <th></th>\n",
              "      <th>0</th>\n",
              "    </tr>\n",
              "  </thead>\n",
              "  <tbody>\n",
              "    <tr>\n",
              "      <th>1306</th>\n",
              "      <td>0.871899</td>\n",
              "    </tr>\n",
              "    <tr>\n",
              "      <th>1676</th>\n",
              "      <td>0.229709</td>\n",
              "    </tr>\n",
              "    <tr>\n",
              "      <th>654</th>\n",
              "      <td>0.617119</td>\n",
              "    </tr>\n",
              "    <tr>\n",
              "      <th>1399</th>\n",
              "      <td>0.185132</td>\n",
              "    </tr>\n",
              "    <tr>\n",
              "      <th>1852</th>\n",
              "      <td>0.341701</td>\n",
              "    </tr>\n",
              "  </tbody>\n",
              "</table>\n",
              "</div>"
            ],
            "text/plain": [
              "             0\n",
              "1306  0.871899\n",
              "1676  0.229709\n",
              "654   0.617119\n",
              "1399  0.185132\n",
              "1852  0.341701"
            ]
          },
          "metadata": {
            "tags": []
          },
          "execution_count": 30
        }
      ]
    },
    {
      "cell_type": "code",
      "metadata": {
        "id": "EzPeA8xz6W7m"
      },
      "source": [
        "x=[]\n",
        "y=[]\n",
        "for i in range(len(train_data.iloc[:,0])-24):\n",
        "    x.append(train_data.iloc[i,0])\n",
        "    y.append(train_data.iloc[i+24,0])"
      ],
      "execution_count": null,
      "outputs": []
    },
    {
      "cell_type": "markdown",
      "metadata": {
        "id": "G8xv0B0W6fdV"
      },
      "source": [
        "**Train Data:**"
      ]
    },
    {
      "cell_type": "code",
      "metadata": {
        "colab": {
          "base_uri": "https://localhost:8080/"
        },
        "id": "ibrXqTkM6hf7",
        "outputId": "3a7529bf-68e2-4263-aa69-39eb44435525"
      },
      "source": [
        "m=1\n",
        "c=-1\n",
        "gama=0.9\n",
        "l=0.1      #learning rate\n",
        "epochs=100 #epochs\n",
        "em=0\n",
        "ec=0\n",
        "e=10**(-8)\n",
        "err=[]\n",
        "for i in range(epochs):\n",
        "  er=0\n",
        "  for j in range(len(x)):\n",
        "    er+=((y[j]-(m*x[j])-c))**2\n",
        "    gm=-(y[j]-m*x[j]-c)*x[j]\n",
        "    gc=-(y[j]-m*x[j]-c)\n",
        "    em=(gama*em)+(1-gama)*(gm**2)\n",
        "    ec=(gama*ec)+(1-gama)*(gc**2)\n",
        "    d_m=-((l)/(em+e)**(0.5))*(gm)\n",
        "    d_c=-((l)/(ec+e)**(0.5))*(gc)\n",
        "    m=m+d_m\n",
        "    c=c+d_c\n",
        "    er=(1/(2*len(x)))*(er)\n",
        "    err.append(er)\n",
        "print(\"The minimum value obtained at m=%.2f\"%(m),\", c=%.2f\"%(c))"
      ],
      "execution_count": null,
      "outputs": [
        {
          "output_type": "stream",
          "text": [
            "The minimum value obtained at m=0.25 , c=0.65\n"
          ],
          "name": "stdout"
        }
      ]
    },
    {
      "cell_type": "markdown",
      "metadata": {
        "id": "K7GKaVFr9Ib5"
      },
      "source": [
        "**MSE,RMSE,MAE for Training data :**"
      ]
    },
    {
      "cell_type": "code",
      "metadata": {
        "colab": {
          "base_uri": "https://localhost:8080/"
        },
        "id": "MS9MoYpL9KxZ",
        "outputId": "9bad6844-3c51-4b11-d58c-ab8de992834e"
      },
      "source": [
        "train_data_pred=[i for i in x]\n",
        "yp=[]\n",
        "for i in range(len(x)):\n",
        "  p=m*x[i]+c\n",
        "  yp.append(p)\n",
        "sum=0\n",
        "s1=0\n",
        "for i in range(len(x)):\n",
        "  sum+=(y[i]-yp[i])**2\n",
        "  s1+=y[i]-yp[i]\n",
        "mse=sum/len(x)\n",
        "mae=s1/len(x)\n",
        "print(\"Mean Square Error for training data (MSE) : \",mse)\n",
        "print(\"Root mean square error for training data (RMSE) : \",mse**0.5)\n",
        "print(\"Mean Absolute Error for training data (MAE) : \",mae)"
      ],
      "execution_count": null,
      "outputs": [
        {
          "output_type": "stream",
          "text": [
            "Mean Square Error for training data (MSE) :  0.13104006947024677\n",
            "Root mean square error for training data (RMSE) :  0.3619945710507918\n",
            "Mean Absolute Error for training data (MAE) :  -0.28916583541400376\n"
          ],
          "name": "stdout"
        }
      ]
    },
    {
      "cell_type": "code",
      "metadata": {
        "colab": {
          "base_uri": "https://localhost:8080/",
          "height": 299
        },
        "id": "asfpQgzW9t5N",
        "outputId": "2a0cb315-2fad-477a-c058-d59a3f1891c7"
      },
      "source": [
        "plt.plot(np.array(x),np.array(yp),'green')\n",
        "plt.scatter(np.array(x),np.array(y),color='red')\n",
        "plt.title('Predicted data vs Actual data')"
      ],
      "execution_count": null,
      "outputs": [
        {
          "output_type": "execute_result",
          "data": {
            "text/plain": [
              "Text(0.5, 1.0, 'Predicted data vs Actual data')"
            ]
          },
          "metadata": {
            "tags": []
          },
          "execution_count": 34
        },
        {
          "output_type": "display_data",
          "data": {
            "image/png": "[encoded data removed]",
            "text/plain": [
              "<Figure size 432x288 with 1 Axes>"
            ]
          },
          "metadata": {
            "tags": [],
            "needs_background": "light"
          }
        }
      ]
    },
    {
      "cell_type": "code",
      "metadata": {
        "colab": {
          "base_uri": "https://localhost:8080/",
          "height": 295
        },
        "id": "38_9Z0up-VLK",
        "outputId": "e99f8690-886b-42f7-fa7e-d6bd3ab05d14"
      },
      "source": [
        "iters=np.arange(epochs*len(x))\n",
        "plt.plot(iters,err,'green')\n",
        "plt.title(\"Error graph for training data\")\n",
        "plt.xlabel(\"iteration count\")\n",
        "plt.ylabel(\"error\")\n",
        "plt.grid()"
      ],
      "execution_count": null,
      "outputs": [
        {
          "output_type": "display_data",
          "data": {
            "image/png": "[encoded data removed]",
            "text/plain": [
              "<Figure size 432x288 with 1 Axes>"
            ]
          },
          "metadata": {
            "tags": [],
            "needs_background": "light"
          }
        }
      ]
    },
    {
      "cell_type": "markdown",
      "metadata": {
        "id": "nFmAaXPl-lRs"
      },
      "source": [
        "**Test Data:**"
      ]
    },
    {
      "cell_type": "code",
      "metadata": {
        "colab": {
          "base_uri": "https://localhost:8080/"
        },
        "id": "hpdLWfFP-njf",
        "outputId": "bcb7255c-2cb3-4fd7-b037-fe7c8ba25150"
      },
      "source": [
        "tx=[]\n",
        "ty=[]\n",
        "for i in range(len(test_data.iloc[:,0])-24):\n",
        "    tx.append(test_data.iloc[i,0])\n",
        "    ty.append(test_data.iloc[i+24,0])\n",
        "\n",
        "yp1=[]\n",
        "for i in range(len(tx)):\n",
        "  p1=m*tx[i]+c\n",
        "  yp1.append(p1)\n",
        "sum=0\n",
        "s2=0\n",
        "for i in range(len(tx)):\n",
        "  sum+=(ty[i]-yp1[i])**2\n",
        "  s2+=ty[i]-yp1[i]\n",
        "mse1=sum/len(tx)\n",
        "mae1=s2/len(tx)\n",
        "print(\"Mean Square Error for testing data (MSE) : \",mse1)\n",
        "print(\"Root Mean Square Error for testing data (RMSE) : \",mse1**0.5)\n",
        "print(\"Mean Absolute Error for testing data (MAE) : \",mae1)"
      ],
      "execution_count": null,
      "outputs": [
        {
          "output_type": "stream",
          "text": [
            "Mean Square Error for testing data (MSE) :  0.13565817775631137\n",
            "Root Mean Square Error for testing data (RMSE) :  0.368318038869007\n",
            "Mean Absolute Error for testing data (MAE) :  -0.3018751163977546\n"
          ],
          "name": "stdout"
        }
      ]
    },
    {
      "cell_type": "code",
      "metadata": {
        "colab": {
          "base_uri": "https://localhost:8080/",
          "height": 265
        },
        "id": "hHeB4z0M_OI3",
        "outputId": "cab1dc60-5d26-48c4-dd3e-3ee85d78a8d2"
      },
      "source": [
        "plt.scatter(tx,ty,color='red')\n",
        "plt.plot(tx,yp1,'green')\n",
        "plt.grid()"
      ],
      "execution_count": null,
      "outputs": [
        {
          "output_type": "display_data",
          "data": {
            "image/png": "[encoded data removed]",
            "text/plain": [
              "<Figure size 432x288 with 1 Axes>"
            ]
          },
          "metadata": {
            "tags": [],
            "needs_background": "light"
          }
        }
      ]
    },
    {
      "cell_type": "markdown",
      "metadata": {
        "id": "4BX1guK3MOvk"
      },
      "source": [
        "**Predict the Output:**"
      ]
    },
    {
      "cell_type": "code",
      "metadata": {
        "colab": {
          "base_uri": "https://localhost:8080/"
        },
        "id": "PQBPV0UU_f9a",
        "outputId": "1bf80c90-3d03-41a8-f196-3eca22de6c25"
      },
      "source": [
        "x_max=y_max= 8841.669480\n",
        "x_min=y_min= 3377.919600\n",
        "x2= float(input(\"Enter load of previous hour : \"))\n",
        "xi=(x2-x_min)/(x_max-x_min)\n",
        "yi=m*xi+c\n",
        "yi=yi*(y_max-y_min)+y_min\n",
        "print(\"Load at hour based on its previous hour {} is : {}\".format(x2,yi))"
      ],
      "execution_count": null,
      "outputs": [
        {
          "output_type": "stream",
          "text": [
            "Enter load of previous hour : 5138.896\n",
            "Load at hour based on its previous hour 5138.896 is : 7341.823745164291\n"
          ],
          "name": "stdout"
        }
      ]
    }
  ]
}