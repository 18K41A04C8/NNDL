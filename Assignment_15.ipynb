{
  "nbformat": 4,
  "nbformat_minor": 0,
  "metadata": {
    "colab": {
      "name": "Assignment-15",
      "provenance": [],
      "collapsed_sections": []
    },
    "kernelspec": {
      "name": "python3",
      "display_name": "Python 3"
    },
    "language_info": {
      "name": "python"
    }
  },
  "cells": [
    {
      "cell_type": "markdown",
      "metadata": {
        "id": "_5mWGOXrwbjr"
      },
      "source": [
        "**RMS PROP**"
      ]
    },
    {
      "cell_type": "markdown",
      "metadata": {
        "id": "MC7XRu-qwlVJ"
      },
      "source": [
        "Develop a simple linear regression model using RMS prop optimizer.\n",
        "Write the python code to build simple linear regression model using RMSprop optimizer."
      ]
    },
    {
      "cell_type": "code",
      "metadata": {
        "colab": {
          "base_uri": "https://localhost:8080/"
        },
        "id": "CzVpYmlaxOB2",
        "outputId": "7ea3169b-5fde-4290-b8e9-ae09a2ca5dfd"
      },
      "source": [
        "x=[0.2,0.4,0.6,0.8]\n",
        "y=[3.4,3.8,4.2,4.6]  #x and y values\n",
        "m=1\n",
        "c=-1\n",
        "gama=0.9\n",
        "l=0.1      #learning rate\n",
        "epochs=100 #epochs\n",
        "em=0\n",
        "ec=0\n",
        "e=10**(-8)\n",
        "for i in range(epochs):\n",
        "  for j in range(len(x)):\n",
        "    gm=-(y[j]-m*x[j]-c)*x[j]\n",
        "    gc=-(y[j]-m*x[j]-c)\n",
        "    em=(gama*em)+(1-gama)*(gm**2)\n",
        "    ec=(gama*ec)+(1-gama)*(gc**2)\n",
        "    d_m=-((l)/(em+e)**(0.5))*(gm)\n",
        "    d_c=-((l)/(ec+e)**(0.5))*(gc)\n",
        "    m=m+d_m\n",
        "    c=c+d_c\n",
        "print(\"The minimum value obtained at m=%.2f\"%(m),\", c=%.2f\"%(c))"
      ],
      "execution_count": null,
      "outputs": [
        {
          "output_type": "stream",
          "text": [
            "The minimum value obtained at m=1.86 , c=3.01\n"
          ],
          "name": "stdout"
        }
      ]
    },
    {
      "cell_type": "code",
      "metadata": {
        "colab": {
          "base_uri": "https://localhost:8080/",
          "height": 295
        },
        "id": "K9wfvQlY2QF9",
        "outputId": "2b76f593-f72e-47cd-a4d4-5e05544236e9"
      },
      "source": [
        "import matplotlib.pyplot as plt\n",
        "import numpy as np\n",
        "x1=np.linspace(-5,5,100)\n",
        "m=round(m,2)\n",
        "c=round(c,2)\n",
        "y1=m*x1+c\n",
        "plt.plot(x1,y1,'-r',label='y='+str(m)+'x+'+str(c))\n",
        "plt.title('Graph of '+'y='+str(m)+'x+'+str(c))\n",
        "plt.xlabel('x',color='#1C2833')\n",
        "plt.ylabel('y',color='#1C2833')\n",
        "plt.legend(loc='upper left')\n",
        "plt.grid()\n",
        "plt.show()"
      ],
      "execution_count": null,
      "outputs": [
        {
          "output_type": "display_data",
          "data": {
            "image/png": "[encoded data removed]",
            "text/plain": [
              "<Figure size 432x288 with 1 Axes>"
            ]
          },
          "metadata": {
            "tags": [],
            "needs_background": "light"
          }
        }
      ]
    },
    {
      "cell_type": "code",
      "metadata": {
        "colab": {
          "base_uri": "https://localhost:8080/"
        },
        "id": "234C2Y272aA6",
        "outputId": "1b5520f9-460e-4685-855a-728e45aa22bb"
      },
      "source": [
        "yp=[]\n",
        "for i in range(len(x)):\n",
        "  p=(m*x[i])+c\n",
        "  yp.append(p)\n",
        "sum=0\n",
        "for i in range(len(x)):\n",
        "  sum+=(y[i]-yp[i])**2\n",
        "mse=sum/len(x)\n",
        "print(\"Mean Square Error (MSE) : \",mse)"
      ],
      "execution_count": null,
      "outputs": [
        {
          "output_type": "stream",
          "text": [
            "Mean Square Error (MSE) :  0.0045799999999999955\n"
          ],
          "name": "stdout"
        }
      ]
    }
  ]
}