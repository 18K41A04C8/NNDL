{
  "nbformat": 4,
  "nbformat_minor": 0,
  "metadata": {
    "colab": {
      "name": "Assignment -8",
      "provenance": [],
      "collapsed_sections": []
    },
    "kernelspec": {
      "name": "python3",
      "display_name": "Python 3"
    },
    "language_info": {
      "name": "python"
    }
  },
  "cells": [
    {
      "cell_type": "markdown",
      "metadata": {
        "id": "-l1J2CwyMqEM"
      },
      "source": [
        "Estimate the weight of liquid nitrogen based on its pressure using simple linear regression model. Consider BGD optimizer.\n",
        " Dataset : Pressure and Weight in Cryogenic Flow Meters. \n",
        " Write the python code to build simple linear regression model using BGD optimizer."
      ]
    },
    {
      "cell_type": "code",
      "metadata": {
        "id": "yE_6mFBmE1a-"
      },
      "source": [
        "import numpy as np\n",
        "import matplotlib.pyplot as plt\n",
        "import pandas as pd\n",
        "from sklearn.preprocessing import minmax_scale\n",
        "from sklearn.model_selection import train_test_split\n",
        "import seaborn as sns\n",
        "from scipy import stats"
      ],
      "execution_count": 1,
      "outputs": []
    },
    {
      "cell_type": "code",
      "metadata": {
        "colab": {
          "base_uri": "https://localhost:8080/",
          "height": 216
        },
        "id": "Rg_-HLV0FAhd",
        "outputId": "f231e798-ffe7-447b-9868-0a48a6c7bd63"
      },
      "source": [
        "data=pd.read_excel(\"pressure_weight.xls\")\n",
        "data.head()"
      ],
      "execution_count": 2,
      "outputs": [
        {
          "output_type": "stream",
          "text": [
            "*** No CODEPAGE record, no encoding_override: will use 'ascii'\n"
          ],
          "name": "stdout"
        },
        {
          "output_type": "execute_result",
          "data": {
            "text/html": [
              "<div>\n",
              "<style scoped>\n",
              "    .dataframe tbody tr th:only-of-type {\n",
              "        vertical-align: middle;\n",
              "    }\n",
              "\n",
              "    .dataframe tbody tr th {\n",
              "        vertical-align: top;\n",
              "    }\n",
              "\n",
              "    .dataframe thead th {\n",
              "        text-align: right;\n",
              "    }\n",
              "</style>\n",
              "<table border=\"1\" class=\"dataframe\">\n",
              "  <thead>\n",
              "    <tr style=\"text-align: right;\">\n",
              "      <th></th>\n",
              "      <th>X</th>\n",
              "      <th>Y</th>\n",
              "    </tr>\n",
              "  </thead>\n",
              "  <tbody>\n",
              "    <tr>\n",
              "      <th>0</th>\n",
              "      <td>75.1</td>\n",
              "      <td>577.8</td>\n",
              "    </tr>\n",
              "    <tr>\n",
              "      <th>1</th>\n",
              "      <td>74.3</td>\n",
              "      <td>577.0</td>\n",
              "    </tr>\n",
              "    <tr>\n",
              "      <th>2</th>\n",
              "      <td>88.7</td>\n",
              "      <td>570.9</td>\n",
              "    </tr>\n",
              "    <tr>\n",
              "      <th>3</th>\n",
              "      <td>114.6</td>\n",
              "      <td>578.6</td>\n",
              "    </tr>\n",
              "    <tr>\n",
              "      <th>4</th>\n",
              "      <td>98.5</td>\n",
              "      <td>572.4</td>\n",
              "    </tr>\n",
              "  </tbody>\n",
              "</table>\n",
              "</div>"
            ],
            "text/plain": [
              "       X      Y\n",
              "0   75.1  577.8\n",
              "1   74.3  577.0\n",
              "2   88.7  570.9\n",
              "3  114.6  578.6\n",
              "4   98.5  572.4"
            ]
          },
          "metadata": {
            "tags": []
          },
          "execution_count": 2
        }
      ]
    },
    {
      "cell_type": "code",
      "metadata": {
        "colab": {
          "base_uri": "https://localhost:8080/"
        },
        "id": "d-hm7n6RFNOI",
        "outputId": "9e5de967-2b20-459f-d0c5-9c300327be26"
      },
      "source": [
        "data.info()"
      ],
      "execution_count": 3,
      "outputs": [
        {
          "output_type": "stream",
          "text": [
            "<class 'pandas.core.frame.DataFrame'>\n",
            "RangeIndex: 30 entries, 0 to 29\n",
            "Data columns (total 2 columns):\n",
            " #   Column  Non-Null Count  Dtype  \n",
            "---  ------  --------------  -----  \n",
            " 0   X       30 non-null     float64\n",
            " 1   Y       30 non-null     float64\n",
            "dtypes: float64(2)\n",
            "memory usage: 608.0 bytes\n"
          ],
          "name": "stdout"
        }
      ]
    },
    {
      "cell_type": "code",
      "metadata": {
        "colab": {
          "base_uri": "https://localhost:8080/"
        },
        "id": "wFDtdah6FTsu",
        "outputId": "30ab4b39-fe81-4be4-ac08-88da176b591b"
      },
      "source": [
        "z=np.abs(stats.zscore(data))\n",
        "print(z)"
      ],
      "execution_count": 4,
      "outputs": [
        {
          "output_type": "stream",
          "text": [
            "[[0.90855142 1.61656054]\n",
            " [0.95645395 1.59597943]\n",
            " [0.09420832 1.43904846]\n",
            " [1.45663625 1.63714165]\n",
            " [0.49259774 1.47763804]\n",
            " [1.30095302 2.6694559 ]\n",
            " [1.46861189 0.430574  ]\n",
            " [1.68097979 1.25896373]\n",
            " [1.00156217 2.78522465]\n",
            " [0.01357238 0.20229517]\n",
            " [0.98639304 0.47756754]\n",
            " [1.52849006 0.25117531]\n",
            " [0.54648809 0.22030365]\n",
            " [0.16326781 0.12254337]\n",
            " [0.98040522 0.28461962]\n",
            " [1.4714062  0.22544892]\n",
            " [1.44146712 0.22287629]\n",
            " [0.74089254 0.12254337]\n",
            " [1.16922104 0.16370559]\n",
            " [0.9057571  0.10453489]\n",
            " [0.10019614 0.24603004]\n",
            " [0.04031797 0.05565476]\n",
            " [0.98639304 0.31291865]\n",
            " [0.66025661 0.56503726]\n",
            " [1.77997837 0.10710753]\n",
            " [0.86064888 0.05565476]\n",
            " [0.84268543 0.04021892]\n",
            " [0.50137987 0.12768865]\n",
            " [0.35767226 0.27432906]\n",
            " [0.46265865 0.18102803]]\n"
          ],
          "name": "stdout"
        }
      ]
    },
    {
      "cell_type": "code",
      "metadata": {
        "colab": {
          "base_uri": "https://localhost:8080/",
          "height": 297
        },
        "id": "TuNdhKPxFaC5",
        "outputId": "2577bcf1-2337-4fd2-8b58-82530ee431b6"
      },
      "source": [
        "sns.boxplot(x=data['X'])"
      ],
      "execution_count": 5,
      "outputs": [
        {
          "output_type": "execute_result",
          "data": {
            "text/plain": [
              "<matplotlib.axes._subplots.AxesSubplot at 0x7efc42dc5810>"
            ]
          },
          "metadata": {
            "tags": []
          },
          "execution_count": 5
        },
        {
          "output_type": "display_data",
          "data": {
            "image/png": "[encoded data removed]",
            "text/plain": [
              "<Figure size 432x288 with 1 Axes>"
            ]
          },
          "metadata": {
            "tags": [],
            "needs_background": "light"
          }
        }
      ]
    },
    {
      "cell_type": "code",
      "metadata": {
        "colab": {
          "base_uri": "https://localhost:8080/",
          "height": 270
        },
        "id": "VeWuAb4RFeJe",
        "outputId": "62c89ed3-63f1-41fa-9513-ae75bd6ca16e"
      },
      "source": [
        "sns.boxplot(y=data['Y'])"
      ],
      "execution_count": 6,
      "outputs": [
        {
          "output_type": "execute_result",
          "data": {
            "text/plain": [
              "<matplotlib.axes._subplots.AxesSubplot at 0x7efc42d01790>"
            ]
          },
          "metadata": {
            "tags": []
          },
          "execution_count": 6
        },
        {
          "output_type": "display_data",
          "data": {
            "image/png": "[encoded data removed]",
            "text/plain": [
              "<Figure size 432x288 with 1 Axes>"
            ]
          },
          "metadata": {
            "tags": [],
            "needs_background": "light"
          }
        }
      ]
    },
    {
      "cell_type": "code",
      "metadata": {
        "colab": {
          "base_uri": "https://localhost:8080/",
          "height": 198
        },
        "id": "KKYCIhwqFiWO",
        "outputId": "6a28f56f-b572-410e-ce51-6995b96f3805"
      },
      "source": [
        "f_data=data[(z<3).all(axis=1)]\n",
        "f_data.head()"
      ],
      "execution_count": 7,
      "outputs": [
        {
          "output_type": "execute_result",
          "data": {
            "text/html": [
              "<div>\n",
              "<style scoped>\n",
              "    .dataframe tbody tr th:only-of-type {\n",
              "        vertical-align: middle;\n",
              "    }\n",
              "\n",
              "    .dataframe tbody tr th {\n",
              "        vertical-align: top;\n",
              "    }\n",
              "\n",
              "    .dataframe thead th {\n",
              "        text-align: right;\n",
              "    }\n",
              "</style>\n",
              "<table border=\"1\" class=\"dataframe\">\n",
              "  <thead>\n",
              "    <tr style=\"text-align: right;\">\n",
              "      <th></th>\n",
              "      <th>X</th>\n",
              "      <th>Y</th>\n",
              "    </tr>\n",
              "  </thead>\n",
              "  <tbody>\n",
              "    <tr>\n",
              "      <th>0</th>\n",
              "      <td>75.1</td>\n",
              "      <td>577.8</td>\n",
              "    </tr>\n",
              "    <tr>\n",
              "      <th>1</th>\n",
              "      <td>74.3</td>\n",
              "      <td>577.0</td>\n",
              "    </tr>\n",
              "    <tr>\n",
              "      <th>2</th>\n",
              "      <td>88.7</td>\n",
              "      <td>570.9</td>\n",
              "    </tr>\n",
              "    <tr>\n",
              "      <th>3</th>\n",
              "      <td>114.6</td>\n",
              "      <td>578.6</td>\n",
              "    </tr>\n",
              "    <tr>\n",
              "      <th>4</th>\n",
              "      <td>98.5</td>\n",
              "      <td>572.4</td>\n",
              "    </tr>\n",
              "  </tbody>\n",
              "</table>\n",
              "</div>"
            ],
            "text/plain": [
              "       X      Y\n",
              "0   75.1  577.8\n",
              "1   74.3  577.0\n",
              "2   88.7  570.9\n",
              "3  114.6  578.6\n",
              "4   98.5  572.4"
            ]
          },
          "metadata": {
            "tags": []
          },
          "execution_count": 7
        }
      ]
    },
    {
      "cell_type": "code",
      "metadata": {
        "colab": {
          "base_uri": "https://localhost:8080/"
        },
        "id": "Vw8tCrnyFp4U",
        "outputId": "38e22239-c9a0-43e0-ac63-dff8440660dc"
      },
      "source": [
        "print(len(data))\n",
        "print(len(f_data))\n",
        "if(len(data)==len(f_data)):\n",
        "  print('No outliers')"
      ],
      "execution_count": 8,
      "outputs": [
        {
          "output_type": "stream",
          "text": [
            "30\n",
            "30\n",
            "No outliers\n"
          ],
          "name": "stdout"
        }
      ]
    },
    {
      "cell_type": "markdown",
      "metadata": {
        "id": "xCkgJyB0Fxok"
      },
      "source": [
        "**Normalisation**"
      ]
    },
    {
      "cell_type": "code",
      "metadata": {
        "colab": {
          "base_uri": "https://localhost:8080/",
          "height": 198
        },
        "id": "yU0aLjJCFy85",
        "outputId": "ba3989d8-2148-4457-83b5-34825aeeea3d"
      },
      "source": [
        "data_n=data.copy()\n",
        "data_n=(data_n-data_n.min())/(data_n.max()-data_n.min())\n",
        "data_n.head()"
      ],
      "execution_count": 9,
      "outputs": [
        {
          "output_type": "execute_result",
          "data": {
            "text/html": [
              "<div>\n",
              "<style scoped>\n",
              "    .dataframe tbody tr th:only-of-type {\n",
              "        vertical-align: middle;\n",
              "    }\n",
              "\n",
              "    .dataframe tbody tr th {\n",
              "        vertical-align: top;\n",
              "    }\n",
              "\n",
              "    .dataframe thead th {\n",
              "        text-align: right;\n",
              "    }\n",
              "</style>\n",
              "<table border=\"1\" class=\"dataframe\">\n",
              "  <thead>\n",
              "    <tr style=\"text-align: right;\">\n",
              "      <th></th>\n",
              "      <th>X</th>\n",
              "      <th>Y</th>\n",
              "    </tr>\n",
              "  </thead>\n",
              "  <tbody>\n",
              "    <tr>\n",
              "      <th>0</th>\n",
              "      <td>0.223183</td>\n",
              "      <td>0.995346</td>\n",
              "    </tr>\n",
              "    <tr>\n",
              "      <th>1</th>\n",
              "      <td>0.209343</td>\n",
              "      <td>0.990692</td>\n",
              "    </tr>\n",
              "    <tr>\n",
              "      <th>2</th>\n",
              "      <td>0.458478</td>\n",
              "      <td>0.955207</td>\n",
              "    </tr>\n",
              "    <tr>\n",
              "      <th>3</th>\n",
              "      <td>0.906574</td>\n",
              "      <td>1.000000</td>\n",
              "    </tr>\n",
              "    <tr>\n",
              "      <th>4</th>\n",
              "      <td>0.628028</td>\n",
              "      <td>0.963933</td>\n",
              "    </tr>\n",
              "  </tbody>\n",
              "</table>\n",
              "</div>"
            ],
            "text/plain": [
              "          X         Y\n",
              "0  0.223183  0.995346\n",
              "1  0.209343  0.990692\n",
              "2  0.458478  0.955207\n",
              "3  0.906574  1.000000\n",
              "4  0.628028  0.963933"
            ]
          },
          "metadata": {
            "tags": []
          },
          "execution_count": 9
        }
      ]
    },
    {
      "cell_type": "markdown",
      "metadata": {
        "id": "d8524-hvF9Q5"
      },
      "source": [
        "**Split Data**"
      ]
    },
    {
      "cell_type": "code",
      "metadata": {
        "id": "biL7A2-WF_Ov"
      },
      "source": [
        "train_data,test_data=train_test_split(data_n,test_size=0.1)"
      ],
      "execution_count": 10,
      "outputs": []
    },
    {
      "cell_type": "code",
      "metadata": {
        "colab": {
          "base_uri": "https://localhost:8080/",
          "height": 216
        },
        "id": "tA0hTOQ-GEv2",
        "outputId": "0b525eca-314f-4e32-d331-6bc898f610ff"
      },
      "source": [
        "print(len(train_data))\n",
        "train_data.head()"
      ],
      "execution_count": 11,
      "outputs": [
        {
          "output_type": "stream",
          "text": [
            "27\n"
          ],
          "name": "stdout"
        },
        {
          "output_type": "execute_result",
          "data": {
            "text/html": [
              "<div>\n",
              "<style scoped>\n",
              "    .dataframe tbody tr th:only-of-type {\n",
              "        vertical-align: middle;\n",
              "    }\n",
              "\n",
              "    .dataframe tbody tr th {\n",
              "        vertical-align: top;\n",
              "    }\n",
              "\n",
              "    .dataframe thead th {\n",
              "        text-align: right;\n",
              "    }\n",
              "</style>\n",
              "<table border=\"1\" class=\"dataframe\">\n",
              "  <thead>\n",
              "    <tr style=\"text-align: right;\">\n",
              "      <th></th>\n",
              "      <th>X</th>\n",
              "      <th>Y</th>\n",
              "    </tr>\n",
              "  </thead>\n",
              "  <tbody>\n",
              "    <tr>\n",
              "      <th>21</th>\n",
              "      <td>0.474048</td>\n",
              "      <td>0.617219</td>\n",
              "    </tr>\n",
              "    <tr>\n",
              "      <th>23</th>\n",
              "      <td>0.676471</td>\n",
              "      <td>0.502036</td>\n",
              "    </tr>\n",
              "    <tr>\n",
              "      <th>16</th>\n",
              "      <td>0.069204</td>\n",
              "      <td>0.579407</td>\n",
              "    </tr>\n",
              "    <tr>\n",
              "      <th>13</th>\n",
              "      <td>0.532872</td>\n",
              "      <td>0.602094</td>\n",
              "    </tr>\n",
              "    <tr>\n",
              "      <th>20</th>\n",
              "      <td>0.456747</td>\n",
              "      <td>0.574171</td>\n",
              "    </tr>\n",
              "  </tbody>\n",
              "</table>\n",
              "</div>"
            ],
            "text/plain": [
              "           X         Y\n",
              "21  0.474048  0.617219\n",
              "23  0.676471  0.502036\n",
              "16  0.069204  0.579407\n",
              "13  0.532872  0.602094\n",
              "20  0.456747  0.574171"
            ]
          },
          "metadata": {
            "tags": []
          },
          "execution_count": 11
        }
      ]
    },
    {
      "cell_type": "markdown",
      "metadata": {
        "id": "-C2QyRZrGQUr"
      },
      "source": [
        "**Train Data**"
      ]
    },
    {
      "cell_type": "code",
      "metadata": {
        "id": "uS0O22DJGE_I"
      },
      "source": [
        "x=np.array(train_data['X'])\n",
        "y=np.array(train_data['Y'])"
      ],
      "execution_count": 12,
      "outputs": []
    },
    {
      "cell_type": "code",
      "metadata": {
        "colab": {
          "base_uri": "https://localhost:8080/"
        },
        "id": "TL8fBk2CAH_N",
        "outputId": "7a182cf3-4d08-4b71-b363-a1c93840f0f0"
      },
      "source": [
        "m=1\n",
        "c=-1\n",
        "epochs=100 # epochs\n",
        "l=0.1      # learning rate\n",
        "err=[]\n",
        "ns=len(x)\n",
        "for i in range(epochs):\n",
        "  er=0\n",
        "  m_d=0\n",
        "  c_d=0\n",
        "  for j in range(len(x)):\n",
        "    er+=((y[j]-(m*x[j])-c))**2\n",
        "    m_d=m_d+((-1.0)*((y[j]-m*x[j]-c)*x[j]))\n",
        "    c_d=c_d+((-1.0)*(y[j]-m*x[j]-c))\n",
        "  m_d=m_d/ns\n",
        "  c_d=c_d/ns\n",
        "  d_m=-l*m_d\n",
        "  d_c=-l*c_d\n",
        "  m=m+d_m\n",
        "  c=c+d_c\n",
        "  er=(1/(2*len(train_data['X'])))*(er)\n",
        "  err.append(er)\n",
        "print(\"The minimun value occurs at m =%.2f\"%(m),\", c = %.2f\"%(c))\n",
        "print(err)"
      ],
      "execution_count": 14,
      "outputs": [
        {
          "output_type": "stream",
          "text": [
            "The minimun value occurs at m =0.64 , c = 0.30\n",
            "[0.7677852350129755, 0.6223638513944902, 0.5098697588296859, 0.4227815499588625, 0.3552967110120672, 0.30293878694485077, 0.26225432493211026, 0.23057907830035768, 0.2058576421381299, 0.1865043093245039, 0.17129572647348415, 0.15928808225085817, 0.14975322144236083, 0.14212935948755157, 0.13598306069331353, 0.13097990592900177, 0.12686186391172039, 0.12342983404527445, 0.12053017890750636, 0.11804433459301555, 0.11588079549916432, 0.11396893090086889, 0.1122542146777732, 0.11069454523244472, 0.10925740644772482, 0.1079176774724608, 0.10665594305263974, 0.10545719001349212, 0.10430980164180281, 0.10320478188646946, 0.10213515685477817, 0.10109551308535117, 0.10008164133892813, 0.0990902617920308, 0.0981188120297814, 0.09716528348583683, 0.09622809525740944, 0.0953059967537429, 0.09439799258851454, 0.0935032846326004, 0.09262122730543834, 0.09175129307950046, 0.09089304586383014, 0.09004612046602108, 0.0892102067435273, 0.0883850373726613, 0.08757037840854749, 0.08676602199824159, 0.08597178075498273, 0.08518748341399676, 0.0844129714770162, 0.08364809661960591, 0.08289271868701388, 0.08214670414409432, 0.08140992487557885, 0.08068225725667529, 0.07996358143226054, 0.0792537807570433, 0.07855274135995433, 0.07786035180441947, 0.07717650282264744, 0.07650108710706198, 0.07583399914586247, 0.07517513509267192, 0.07452439266252452, 0.07388167104821591, 0.07324687085240487, 0.07261989403190712, 0.07200064385143672, 0.0713890248446762, 0.0707849427810397, 0.07018830463686897, 0.06959901857008656, 0.06901699389755582, 0.06844214107456636, 0.06787437167599732, 0.06731359837881151, 0.06675973494561356, 0.06621269620906464, 0.0656723980569938, 0.06513875741808234, 0.06461169224802457, 0.06409112151609118, 0.06357696519203658, 0.06306914423330569, 0.06256758057250465, 0.06207219710510803, 0.061582917677380784, 0.061099667074497925, 0.06062237100884817, 0.06015095610851092, 0.059685349905897515, 0.05922548082654983, 0.05877127817809025, 0.0583226721393179, 0.05787959374944766, 0.05744197489748723, 0.057009748311750416, 0.05658284754950295, 0.05616120698673866]\n"
          ],
          "name": "stdout"
        }
      ]
    },
    {
      "cell_type": "markdown",
      "metadata": {
        "id": "8GdGn69CG-Zk"
      },
      "source": [
        "**MSE,RMSE,MAE for Training data:**"
      ]
    },
    {
      "cell_type": "code",
      "metadata": {
        "id": "jGHDmT-YHAQY"
      },
      "source": [
        "train_data_pred=m*train_data['X']+c"
      ],
      "execution_count": 15,
      "outputs": []
    },
    {
      "cell_type": "code",
      "metadata": {
        "colab": {
          "base_uri": "https://localhost:8080/"
        },
        "id": "q-4yA7KAHQhU",
        "outputId": "c1c16e2b-d86e-463e-bb76-80314051e2c3"
      },
      "source": [
        "yp=[]\n",
        "for i in range(len(x)):\n",
        "  p=(m*x[i])+c\n",
        "  yp.append(p)\n",
        "print(\"Predicted values (yp) : \",yp)"
      ],
      "execution_count": 16,
      "outputs": [
        {
          "output_type": "stream",
          "text": [
            "Predicted values (yp) :  [0.6055774308529706, 0.7343906755323573, 0.3479509414941973, 0.6430103395632197, 0.5945677518205443, 0.5472261319811117, 0.4316245021406364, 0.4547448281087316, 0.8279729473079801, 0.5208029023032889, 0.5956687197237871, 0.3424461019779842, 0.4371293416568496, 0.8521942411793177, 0.7971458460171867, 0.4327254700438792, 0.7795303595653048, 0.476764186173584, 0.4316245021406364, 0.4459370848827905, 0.8830213424701111, 0.8940310215025373, 0.4580477318184594, 0.6980587347253507, 0.30391222536449247, 0.7035635742415638, 0.7134722853707476]\n"
          ],
          "name": "stdout"
        }
      ]
    },
    {
      "cell_type": "code",
      "metadata": {
        "colab": {
          "base_uri": "https://localhost:8080/"
        },
        "id": "Yv9UMQp0HbEQ",
        "outputId": "b14eb9d9-5c7f-4773-9dc4-177fcceee154"
      },
      "source": [
        "sum=0\n",
        "s1=0\n",
        "for i in range(len(x)):\n",
        "  sum+=(y[i]-yp[i])**2\n",
        "  s1+=y[i]-yp[i]\n",
        "mse=sum/len(x)\n",
        "mae=s1/len(x)\n",
        "print(\"Mean Square Error for training data (MSE) : \",mse)\n",
        "print(\"Root mea square error for training data (RMSE) : \",mse**0.5)\n",
        "print(\"Mean Absolute Error for training data (MAE) : \",mae)"
      ],
      "execution_count": 19,
      "outputs": [
        {
          "output_type": "stream",
          "text": [
            "Mean Square Error for training data (MSE) :  0.11148952361616836\n",
            "Root mea square error for training data (RMSE) :  0.33390046962555825\n",
            "Mean Absolute Error for training data (MAE) :  0.02782733809254748\n"
          ],
          "name": "stdout"
        }
      ]
    },
    {
      "cell_type": "code",
      "metadata": {
        "colab": {
          "base_uri": "https://localhost:8080/",
          "height": 299
        },
        "id": "u0OuoAXvImER",
        "outputId": "70785bec-3bce-485a-81b0-1b513cb8606b"
      },
      "source": [
        "plt.plot(np.array(train_data['X']),np.array(train_data_pred),'green')\n",
        "plt.scatter(np.array(train_data['X']),np.array(train_data['Y']),color='red')\n",
        "plt.title(\"Predicted data vs Actual data\")"
      ],
      "execution_count": 20,
      "outputs": [
        {
          "output_type": "execute_result",
          "data": {
            "text/plain": [
              "Text(0.5, 1.0, 'Predicted data vs Actual data')"
            ]
          },
          "metadata": {
            "tags": []
          },
          "execution_count": 20
        },
        {
          "output_type": "display_data",
          "data": {
            "image/png": "[encoded data removed]",
            "text/plain": [
              "<Figure size 432x288 with 1 Axes>"
            ]
          },
          "metadata": {
            "tags": [],
            "needs_background": "light"
          }
        }
      ]
    },
    {
      "cell_type": "code",
      "metadata": {
        "colab": {
          "base_uri": "https://localhost:8080/",
          "height": 295
        },
        "id": "iMf-mhUjIv8z",
        "outputId": "f330f982-4c08-4be9-f4c3-62972b668853"
      },
      "source": [
        "iters=np.arange(epochs)\n",
        "plt.plot(iters,err,'green')\n",
        "plt.title(\"Error graph for training data\")\n",
        "plt.xlabel(\"iteration count\")\n",
        "plt.ylabel(\"error\")\n",
        "plt.grid()"
      ],
      "execution_count": 21,
      "outputs": [
        {
          "output_type": "display_data",
          "data": {
            "image/png": "[encoded data removed]",
            "text/plain": [
              "<Figure size 432x288 with 1 Axes>"
            ]
          },
          "metadata": {
            "tags": [],
            "needs_background": "light"
          }
        }
      ]
    },
    {
      "cell_type": "markdown",
      "metadata": {
        "id": "-tGAXSOrI85k"
      },
      "source": [
        "**Testing data :**"
      ]
    },
    {
      "cell_type": "code",
      "metadata": {
        "colab": {
          "base_uri": "https://localhost:8080/"
        },
        "id": "YF6RcJBVJA1m",
        "outputId": "85043d1c-3737-488b-996b-6aae46e74260"
      },
      "source": [
        "tx=np.array(test_data['X'])\n",
        "ty=np.array(test_data['Y'])\n",
        "test_data_pred=m*test_data['X']+c\n",
        "print(test_data_pred)"
      ],
      "execution_count": 22,
      "outputs": [
        {
          "output_type": "stream",
          "text": [
            "24    0.940272\n",
            "9     0.615486\n",
            "3     0.880819\n",
            "Name: X, dtype: float64\n"
          ],
          "name": "stdout"
        }
      ]
    },
    {
      "cell_type": "code",
      "metadata": {
        "colab": {
          "base_uri": "https://localhost:8080/"
        },
        "id": "G8sty8lrJYfF",
        "outputId": "daf3e30c-49a4-470c-88e4-d195ef15ef42"
      },
      "source": [
        "yp1=[]\n",
        "for i in range(len(tx)):\n",
        "  p1=(m*tx[i])+c\n",
        "  yp1.append(p1)\n",
        "print(\"Predicted values (yp) : \",yp1)"
      ],
      "execution_count": 23,
      "outputs": [
        {
          "output_type": "stream",
          "text": [
            "Predicted values (yp) :  [0.9402716734387274, 0.6154861419821542, 0.8808194066636258]\n"
          ],
          "name": "stdout"
        }
      ]
    },
    {
      "cell_type": "code",
      "metadata": {
        "colab": {
          "base_uri": "https://localhost:8080/"
        },
        "id": "qLSYUM0LJhbP",
        "outputId": "d3aeb048-28ec-40df-9325-b7d75b8eb29f"
      },
      "source": [
        "sum=0\n",
        "s2=0\n",
        "for i in range(len(tx)):\n",
        "  sum+=(ty[i]-yp1[i])**2\n",
        "  s2+=ty[i]-yp1[i]\n",
        "mse1=sum/len(tx)\n",
        "mae1=s2/len(tx)\n",
        "print(\"Mean Square Error for testing data (MSE) : \",mse1)\n",
        "print(\"Root mea square error for testing data (RMSE) : \",mse1**0.5)\n",
        "print(\"Mean Absolute Error for testing data (MAE) : \",mae1)"
      ],
      "execution_count": 30,
      "outputs": [
        {
          "output_type": "stream",
          "text": [
            "Mean Square Error for testing data (MSE) :  0.042402331213483115\n",
            "Root mea square error for testing data (RMSE) :  0.20591826342867967\n",
            "Mean Absolute Error for testing data (MAE) :  -0.08231069318659456\n"
          ],
          "name": "stdout"
        }
      ]
    },
    {
      "cell_type": "code",
      "metadata": {
        "colab": {
          "base_uri": "https://localhost:8080/",
          "height": 265
        },
        "id": "eCxdWQmvK4z6",
        "outputId": "d3fde71e-4e51-4fec-ba8a-e7120d528c9c"
      },
      "source": [
        "plt.scatter(test_data['X'],test_data['Y'],color='red')\n",
        "plt.plot(test_data['X'],test_data_pred,'green')\n",
        "plt.grid()"
      ],
      "execution_count": 27,
      "outputs": [
        {
          "output_type": "display_data",
          "data": {
            "image/png": "[encoded data removed]",
            "text/plain": [
              "<Figure size 432x288 with 1 Axes>"
            ]
          },
          "metadata": {
            "tags": [],
            "needs_background": "light"
          }
        }
      ]
    },
    {
      "cell_type": "code",
      "metadata": {
        "id": "TOsBzEy5K_Tg"
      },
      "source": [
        "x_min=data['X'].min()\n",
        "x_max=data['X'].max()\n",
        "y_min=data['Y'].min()\n",
        "y_max=data['Y'].max()"
      ],
      "execution_count": 28,
      "outputs": []
    },
    {
      "cell_type": "markdown",
      "metadata": {
        "id": "Ho8mMPGdLFeZ"
      },
      "source": [
        "**Predict Output**"
      ]
    },
    {
      "cell_type": "code",
      "metadata": {
        "colab": {
          "base_uri": "https://localhost:8080/"
        },
        "id": "4OujVxbZLHwi",
        "outputId": "7533826c-36b5-4d2f-f828-ab8d0e6f5292"
      },
      "source": [
        "x2=float(input(\"Enter pressure of liquid nitrogen value : \"))\n",
        "xi=(x2-x_min)/(x_max-x_min)\n",
        "yi=m*xi+c\n",
        "yi=yi*(y_max-y_min)+y_min\n",
        "print(\"Weight of liquid nitrogen based on its pressure {} is : {}\".format(x2,yi))"
      ],
      "execution_count": 29,
      "outputs": [
        {
          "output_type": "stream",
          "text": [
            "Enter pressure of liquid nitrogen value : 88.7\n",
            "Weight of liquid nitrogen based on its pressure 88.7 is : 509.095452920519\n"
          ],
          "name": "stdout"
        }
      ]
    }
  ]
}