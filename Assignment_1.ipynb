{
  "nbformat": 4,
  "nbformat_minor": 0,
  "metadata": {
    "colab": {
      "name": "Assignment-1",
      "provenance": [],
      "collapsed_sections": []
    },
    "kernelspec": {
      "name": "python3",
      "display_name": "Python 3"
    }
  },
  "cells": [
    {
      "cell_type": "markdown",
      "metadata": {
        "id": "Xq2W6V24CmVO"
      },
      "source": [
        "Find the global minimum point and value for the function f(x)= x^4 + 3x^2 +10. \r\n",
        "Do manual calculations for two iterations.\r\n",
        "Find the optimal solution using python programming.\r\n"
      ]
    },
    {
      "cell_type": "markdown",
      "metadata": {
        "id": "rlGVPGH8Dkg9"
      },
      "source": [
        "Method-1 :"
      ]
    },
    {
      "cell_type": "code",
      "metadata": {
        "colab": {
          "base_uri": "https://localhost:8080/"
        },
        "id": "Y99q51cWDUln",
        "outputId": "85af203a-154c-49b9-ac28-03b2765cc8b5"
      },
      "source": [
        "import random\r\n",
        "x=random.randint(0,11)  #random x variable\r\n",
        "print(\"Given Variable x : \", x)\r\n",
        "epochs=1000  #epochs\r\n",
        "l=0.001      #learning rate\r\n",
        "for i in range(epochs):\r\n",
        "  f1=(4*(x**3))+(6*x)\r\n",
        "  y=-(l)*(f1)\r\n",
        "  x=x+y\r\n",
        "print(\"The local minimum occurs at x = %.2f\"%(x))\r\n",
        "print(\"Minimum value of f(x)=%.2f\"%((x**4)+(3*(x**2))+10),\"at x=%.2f\"%(x))"
      ],
      "execution_count": 63,
      "outputs": [
        {
          "output_type": "stream",
          "text": [
            "Given Variable x :  1\n",
            "The local minimum occurs at x = 0.00\n",
            "Minimum value of f(x)=10.00 at x=0.00\n"
          ],
          "name": "stdout"
        }
      ]
    },
    {
      "cell_type": "markdown",
      "metadata": {
        "id": "N_SPlBgpEOS9"
      },
      "source": [
        "Method-2:"
      ]
    },
    {
      "cell_type": "code",
      "metadata": {
        "colab": {
          "base_uri": "https://localhost:8080/"
        },
        "id": "u2E4prSOD_HA",
        "outputId": "27c3a095-7258-47fc-e060-5cd0a26f31d6"
      },
      "source": [
        "x=random.randint(0,11)    #random x variable\r\n",
        "print(\"Given Variable x=\",x)\r\n",
        "l=0.001  # learning rate\r\n",
        "e=0.001  #when to stop algorithm\r\n",
        "d_x=1\r\n",
        "m_i=1000 #maximum no. of iterations\r\n",
        "i=0   #iteration counter\r\n",
        "def derive(x):\r\n",
        "  x1=(4*(x**3))+(6*x)\r\n",
        "  return x1\r\n",
        "while abs(d_x)>e and i<m_i:\r\n",
        "  px=x\r\n",
        "  d_x=derive(px)\r\n",
        "  d_x=-l*d_x\r\n",
        "  x=x+d_x  #Gradiant descent\r\n",
        "  i=i+1    #iteration count\r\n",
        "print(\"The local minimum occurs at x = %.2f\"%(x))\r\n",
        "print(\"Minimum value of f(x)=%.2f\"%((x**4)+(3*(x**2))+10),\"at x=%.2f\"%(x))"
      ],
      "execution_count": 105,
      "outputs": [
        {
          "output_type": "stream",
          "text": [
            "Given Variable x= 0\n",
            "The local minimum occurs at x = 0.00\n",
            "Minimum value of f(x)=10.00 at x=0.00\n"
          ],
          "name": "stdout"
        }
      ]
    }
  ]
}