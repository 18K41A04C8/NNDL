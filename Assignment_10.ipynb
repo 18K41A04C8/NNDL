{
  "nbformat": 4,
  "nbformat_minor": 0,
  "metadata": {
    "colab": {
      "name": "Assignment -10",
      "provenance": [],
      "collapsed_sections": []
    },
    "kernelspec": {
      "name": "python3",
      "display_name": "Python 3"
    },
    "language_info": {
      "name": "python"
    }
  },
  "cells": [
    {
      "cell_type": "markdown",
      "metadata": {
        "id": "hyo5O-CbS-cQ"
      },
      "source": [
        "Estimate load at particular hour on 33/11KV substation based on load at same time but previous day. Consider momentum + SGD optimizer. \n",
        "Dataset : Active power load dataset. \n",
        "Write a python code to build simple linear regression model using momentum + SGD optimizer."
      ]
    },
    {
      "cell_type": "code",
      "metadata": {
        "id": "3sFJguu3TBFy"
      },
      "source": [
        "import numpy as np\n",
        "import matplotlib.pyplot as plt\n",
        "import pandas as pd\n",
        "from sklearn.preprocessing import minmax_scale\n",
        "from sklearn.model_selection import train_test_split\n",
        "import seaborn as sns\n",
        "from scipy import stats"
      ],
      "execution_count": 2,
      "outputs": []
    },
    {
      "cell_type": "markdown",
      "metadata": {
        "id": "D6oeFjA7TIHe"
      },
      "source": [
        "**Read data**"
      ]
    },
    {
      "cell_type": "code",
      "metadata": {
        "colab": {
          "base_uri": "https://localhost:8080/",
          "height": 198
        },
        "id": "eA3M3zlaTKd8",
        "outputId": "fd80403a-760a-4d94-e72e-1d3d08bdbc15"
      },
      "source": [
        "data=pd.read_excel(\"Load_Data_in_kW.xlsx\",header=None)\n",
        "data.head()"
      ],
      "execution_count": 3,
      "outputs": [
        {
          "output_type": "execute_result",
          "data": {
            "text/html": [
              "<div>\n",
              "<style scoped>\n",
              "    .dataframe tbody tr th:only-of-type {\n",
              "        vertical-align: middle;\n",
              "    }\n",
              "\n",
              "    .dataframe tbody tr th {\n",
              "        vertical-align: top;\n",
              "    }\n",
              "\n",
              "    .dataframe thead th {\n",
              "        text-align: right;\n",
              "    }\n",
              "</style>\n",
              "<table border=\"1\" class=\"dataframe\">\n",
              "  <thead>\n",
              "    <tr style=\"text-align: right;\">\n",
              "      <th></th>\n",
              "      <th>0</th>\n",
              "    </tr>\n",
              "  </thead>\n",
              "  <tbody>\n",
              "    <tr>\n",
              "      <th>0</th>\n",
              "      <td>5551.82208</td>\n",
              "    </tr>\n",
              "    <tr>\n",
              "      <th>1</th>\n",
              "      <td>4983.17184</td>\n",
              "    </tr>\n",
              "    <tr>\n",
              "      <th>2</th>\n",
              "      <td>4888.39680</td>\n",
              "    </tr>\n",
              "    <tr>\n",
              "      <th>3</th>\n",
              "      <td>5072.95872</td>\n",
              "    </tr>\n",
              "    <tr>\n",
              "      <th>4</th>\n",
              "      <td>5196.25980</td>\n",
              "    </tr>\n",
              "  </tbody>\n",
              "</table>\n",
              "</div>"
            ],
            "text/plain": [
              "            0\n",
              "0  5551.82208\n",
              "1  4983.17184\n",
              "2  4888.39680\n",
              "3  5072.95872\n",
              "4  5196.25980"
            ]
          },
          "metadata": {
            "tags": []
          },
          "execution_count": 3
        }
      ]
    },
    {
      "cell_type": "code",
      "metadata": {
        "colab": {
          "base_uri": "https://localhost:8080/"
        },
        "id": "g5IvD5MtTWiW",
        "outputId": "2c582f6e-3924-4f4c-8bc4-a4da4d86afad"
      },
      "source": [
        "data.info()"
      ],
      "execution_count": 4,
      "outputs": [
        {
          "output_type": "stream",
          "text": [
            "<class 'pandas.core.frame.DataFrame'>\n",
            "RangeIndex: 2184 entries, 0 to 2183\n",
            "Data columns (total 1 columns):\n",
            " #   Column  Non-Null Count  Dtype  \n",
            "---  ------  --------------  -----  \n",
            " 0   0       2184 non-null   float64\n",
            "dtypes: float64(1)\n",
            "memory usage: 17.2 KB\n"
          ],
          "name": "stdout"
        }
      ]
    },
    {
      "cell_type": "code",
      "metadata": {
        "colab": {
          "base_uri": "https://localhost:8080/"
        },
        "id": "BKG4Oj3PTaPl",
        "outputId": "d2060618-e475-41a1-d16e-bba33069fa2a"
      },
      "source": [
        "z=np.abs(stats.zscore(data))\n",
        "print(z)"
      ],
      "execution_count": 5,
      "outputs": [
        {
          "output_type": "stream",
          "text": [
            "[[0.04910416]\n",
            " [0.08229029]\n",
            " [0.08782131]\n",
            " ...\n",
            " [0.09743692]\n",
            " [0.07253822]\n",
            " [0.03181432]]\n"
          ],
          "name": "stdout"
        }
      ]
    },
    {
      "cell_type": "code",
      "metadata": {
        "colab": {
          "base_uri": "https://localhost:8080/",
          "height": 297
        },
        "id": "jqNixw7qTf6_",
        "outputId": "e46e1e05-b8bb-44d8-96a5-d273f95cdb07"
      },
      "source": [
        "sns.boxplot(x=data[0])"
      ],
      "execution_count": 6,
      "outputs": [
        {
          "output_type": "execute_result",
          "data": {
            "text/plain": [
              "<matplotlib.axes._subplots.AxesSubplot at 0x7fa6a3e45c50>"
            ]
          },
          "metadata": {
            "tags": []
          },
          "execution_count": 6
        },
        {
          "output_type": "display_data",
          "data": {
            "image/png": "[encoded data removed]",
            "text/plain": [
              "<Figure size 432x288 with 1 Axes>"
            ]
          },
          "metadata": {
            "tags": [],
            "needs_background": "light"
          }
        }
      ]
    },
    {
      "cell_type": "code",
      "metadata": {
        "colab": {
          "base_uri": "https://localhost:8080/",
          "height": 198
        },
        "id": "zWfRIfqmTjOo",
        "outputId": "187649c1-8426-47ce-90f8-2e79810e9dea"
      },
      "source": [
        "df=data\n",
        "q=df[0].quantile(0.99)\n",
        "df[df[0]<q]\n",
        "q_low=df[0].quantile(0.01)\n",
        "q_hi=df[0].quantile(0.99)\n",
        "df_filtered=df[(df[0]<q_hi)&(df[0]>q_low)]\n",
        "df_filtered.head()"
      ],
      "execution_count": 7,
      "outputs": [
        {
          "output_type": "execute_result",
          "data": {
            "text/html": [
              "<div>\n",
              "<style scoped>\n",
              "    .dataframe tbody tr th:only-of-type {\n",
              "        vertical-align: middle;\n",
              "    }\n",
              "\n",
              "    .dataframe tbody tr th {\n",
              "        vertical-align: top;\n",
              "    }\n",
              "\n",
              "    .dataframe thead th {\n",
              "        text-align: right;\n",
              "    }\n",
              "</style>\n",
              "<table border=\"1\" class=\"dataframe\">\n",
              "  <thead>\n",
              "    <tr style=\"text-align: right;\">\n",
              "      <th></th>\n",
              "      <th>0</th>\n",
              "    </tr>\n",
              "  </thead>\n",
              "  <tbody>\n",
              "    <tr>\n",
              "      <th>0</th>\n",
              "      <td>5551.82208</td>\n",
              "    </tr>\n",
              "    <tr>\n",
              "      <th>1</th>\n",
              "      <td>4983.17184</td>\n",
              "    </tr>\n",
              "    <tr>\n",
              "      <th>2</th>\n",
              "      <td>4888.39680</td>\n",
              "    </tr>\n",
              "    <tr>\n",
              "      <th>3</th>\n",
              "      <td>5072.95872</td>\n",
              "    </tr>\n",
              "    <tr>\n",
              "      <th>4</th>\n",
              "      <td>5196.25980</td>\n",
              "    </tr>\n",
              "  </tbody>\n",
              "</table>\n",
              "</div>"
            ],
            "text/plain": [
              "            0\n",
              "0  5551.82208\n",
              "1  4983.17184\n",
              "2  4888.39680\n",
              "3  5072.95872\n",
              "4  5196.25980"
            ]
          },
          "metadata": {
            "tags": []
          },
          "execution_count": 7
        }
      ]
    },
    {
      "cell_type": "code",
      "metadata": {
        "colab": {
          "base_uri": "https://localhost:8080/"
        },
        "id": "SE6bHw7VTwns",
        "outputId": "31bc8dcc-791b-4e67-9477-96128b72b71d"
      },
      "source": [
        "print(len(data))\n",
        "print(len(df_filtered))\n",
        "if(len(data)==len(df_filtered)):\n",
        "  print('No outliers')"
      ],
      "execution_count": 8,
      "outputs": [
        {
          "output_type": "stream",
          "text": [
            "2184\n",
            "2140\n"
          ],
          "name": "stdout"
        }
      ]
    },
    {
      "cell_type": "markdown",
      "metadata": {
        "id": "0Xdv0zc7T3J3"
      },
      "source": [
        "**Normalisation**"
      ]
    },
    {
      "cell_type": "code",
      "metadata": {
        "colab": {
          "base_uri": "https://localhost:8080/",
          "height": 198
        },
        "id": "10jM5D4fT4Jw",
        "outputId": "fae0a876-34bb-4a6f-8151-98040444c61e"
      },
      "source": [
        "data=df_filtered\n",
        "data_n=data.copy()\n",
        "data_n=(data_n-data_n.min())/(data_n.max()-data_n.min())\n",
        "data_n.head()"
      ],
      "execution_count": 9,
      "outputs": [
        {
          "output_type": "execute_result",
          "data": {
            "text/html": [
              "<div>\n",
              "<style scoped>\n",
              "    .dataframe tbody tr th:only-of-type {\n",
              "        vertical-align: middle;\n",
              "    }\n",
              "\n",
              "    .dataframe tbody tr th {\n",
              "        vertical-align: top;\n",
              "    }\n",
              "\n",
              "    .dataframe thead th {\n",
              "        text-align: right;\n",
              "    }\n",
              "</style>\n",
              "<table border=\"1\" class=\"dataframe\">\n",
              "  <thead>\n",
              "    <tr style=\"text-align: right;\">\n",
              "      <th></th>\n",
              "      <th>0</th>\n",
              "    </tr>\n",
              "  </thead>\n",
              "  <tbody>\n",
              "    <tr>\n",
              "      <th>0</th>\n",
              "      <td>0.372950</td>\n",
              "    </tr>\n",
              "    <tr>\n",
              "      <th>1</th>\n",
              "      <td>0.254941</td>\n",
              "    </tr>\n",
              "    <tr>\n",
              "      <th>2</th>\n",
              "      <td>0.235273</td>\n",
              "    </tr>\n",
              "    <tr>\n",
              "      <th>3</th>\n",
              "      <td>0.273574</td>\n",
              "    </tr>\n",
              "    <tr>\n",
              "      <th>4</th>\n",
              "      <td>0.299162</td>\n",
              "    </tr>\n",
              "  </tbody>\n",
              "</table>\n",
              "</div>"
            ],
            "text/plain": [
              "          0\n",
              "0  0.372950\n",
              "1  0.254941\n",
              "2  0.235273\n",
              "3  0.273574\n",
              "4  0.299162"
            ]
          },
          "metadata": {
            "tags": []
          },
          "execution_count": 9
        }
      ]
    },
    {
      "cell_type": "markdown",
      "metadata": {
        "id": "GN6iGQ6gUCrb"
      },
      "source": [
        "**Split** **data**"
      ]
    },
    {
      "cell_type": "code",
      "metadata": {
        "colab": {
          "base_uri": "https://localhost:8080/",
          "height": 216
        },
        "id": "-yFWDEElUFC-",
        "outputId": "e1ff3ec1-d830-42f3-fe53-1ab23423224e"
      },
      "source": [
        "train_data,test_data=train_test_split(data_n,test_size=0.1)\n",
        "print(len(train_data))\n",
        "train_data.head()"
      ],
      "execution_count": 20,
      "outputs": [
        {
          "output_type": "stream",
          "text": [
            "1926\n"
          ],
          "name": "stdout"
        },
        {
          "output_type": "execute_result",
          "data": {
            "text/html": [
              "<div>\n",
              "<style scoped>\n",
              "    .dataframe tbody tr th:only-of-type {\n",
              "        vertical-align: middle;\n",
              "    }\n",
              "\n",
              "    .dataframe tbody tr th {\n",
              "        vertical-align: top;\n",
              "    }\n",
              "\n",
              "    .dataframe thead th {\n",
              "        text-align: right;\n",
              "    }\n",
              "</style>\n",
              "<table border=\"1\" class=\"dataframe\">\n",
              "  <thead>\n",
              "    <tr style=\"text-align: right;\">\n",
              "      <th></th>\n",
              "      <th>0</th>\n",
              "    </tr>\n",
              "  </thead>\n",
              "  <tbody>\n",
              "    <tr>\n",
              "      <th>1420</th>\n",
              "      <td>0.274092</td>\n",
              "    </tr>\n",
              "    <tr>\n",
              "      <th>1680</th>\n",
              "      <td>0.676188</td>\n",
              "    </tr>\n",
              "    <tr>\n",
              "      <th>957</th>\n",
              "      <td>0.369327</td>\n",
              "    </tr>\n",
              "    <tr>\n",
              "      <th>1881</th>\n",
              "      <td>0.701097</td>\n",
              "    </tr>\n",
              "    <tr>\n",
              "      <th>2140</th>\n",
              "      <td>0.190308</td>\n",
              "    </tr>\n",
              "  </tbody>\n",
              "</table>\n",
              "</div>"
            ],
            "text/plain": [
              "             0\n",
              "1420  0.274092\n",
              "1680  0.676188\n",
              "957   0.369327\n",
              "1881  0.701097\n",
              "2140  0.190308"
            ]
          },
          "metadata": {
            "tags": []
          },
          "execution_count": 20
        }
      ]
    },
    {
      "cell_type": "code",
      "metadata": {
        "id": "yL1lua3zUhU4"
      },
      "source": [
        "x=[]\n",
        "y=[]\n",
        "for i in range(len(train_data.iloc[:,0])-24):\n",
        "  x.append(train_data.iloc[i,0])\n",
        "  y.append(train_data.iloc[i+24,0])"
      ],
      "execution_count": 21,
      "outputs": []
    },
    {
      "cell_type": "markdown",
      "metadata": {
        "id": "2vn451jWUp15"
      },
      "source": [
        "**Train** **Data**"
      ]
    },
    {
      "cell_type": "code",
      "metadata": {
        "colab": {
          "base_uri": "https://localhost:8080/"
        },
        "id": "1uDqF5yiUra3",
        "outputId": "bc2fedc4-05e9-46d0-8eef-77393522ed55"
      },
      "source": [
        "m=1\n",
        "c=-1\n",
        "epochs=100  # epochs\n",
        "l=0.1      # learning rate\n",
        "ns=len(x)\n",
        "gama=0.9\n",
        "vm=0\n",
        "vc=0\n",
        "err=[]\n",
        "for i in range(epochs):\n",
        "  er=0\n",
        "  for j in range(len(x)):\n",
        "    er+=((y[j]-(m*x[j])-c))**2\n",
        "    gm=((-1.0)*(y[j]-m*x[j]-c)*(x[j]))\n",
        "    gc=((-1.0)*(y[j]-m*x[j]-c))\n",
        "    vm=(gama*vm)-(l*gm)\n",
        "    vc=(gama*vc)-(l*gc)\n",
        "    m=m+vm\n",
        "    c=c+vc\n",
        "    er=(1/(2*len(x)))*(er)\n",
        "    err.append(er)\n",
        "print(\"The local minimum occurs at m =%.2f\"%(m),\", c = %.2f\"%(c))"
      ],
      "execution_count": 23,
      "outputs": [
        {
          "output_type": "stream",
          "text": [
            "The local minimum occurs at m =-0.16 , c = 0.60\n"
          ],
          "name": "stdout"
        }
      ]
    },
    {
      "cell_type": "markdown",
      "metadata": {
        "id": "M2MkOf5_Vegj"
      },
      "source": [
        "**MSE,RMSE,MAE for Training data :**"
      ]
    },
    {
      "cell_type": "code",
      "metadata": {
        "colab": {
          "base_uri": "https://localhost:8080/"
        },
        "id": "7eUbbrviVgQ_",
        "outputId": "10ea6566-2ac0-4fe0-bfee-f4f0b9db75bd"
      },
      "source": [
        "yp=[]\n",
        "for i in range(len(x)):\n",
        "  p=m*x[i]+c\n",
        "  yp.append(p)\n",
        "sum=0\n",
        "s1=0\n",
        "for i in range(len(x)):\n",
        "  sum+=(y[i]-yp[i])**2\n",
        "  s1+=y[i]-yp[i]\n",
        "mse=sum/len(x)\n",
        "mae=s1/len(x)\n",
        "print(\"Mean Square Error for training data (MSE) : \",mse)\n",
        "print(\"Root mean square error for training data (RMSE) : \",mse**0.5)\n",
        "print(\"Mean Absolute Error for training data (MAE) : \",mae)"
      ],
      "execution_count": 24,
      "outputs": [
        {
          "output_type": "stream",
          "text": [
            "Mean Square Error for training data (MSE) :  0.04887422092524455\n",
            "Root mean square error for training data (RMSE) :  0.22107514768794015\n",
            "Mean Absolute Error for training data (MAE) :  -0.05752355387692156\n"
          ],
          "name": "stdout"
        }
      ]
    },
    {
      "cell_type": "code",
      "metadata": {
        "colab": {
          "base_uri": "https://localhost:8080/",
          "height": 299
        },
        "id": "ZSPg17eUXjFS",
        "outputId": "51ae4b03-3c7d-4481-98d3-aca3795d2bdf"
      },
      "source": [
        "plt.plot(np.array(x),np.array(yp),'green')\n",
        "plt.scatter(np.array(x),np.array(y),color='red')\n",
        "plt.title(\"Predicted data vs Actual data\")"
      ],
      "execution_count": 25,
      "outputs": [
        {
          "output_type": "execute_result",
          "data": {
            "text/plain": [
              "Text(0.5, 1.0, 'Predicted data vs Actual data')"
            ]
          },
          "metadata": {
            "tags": []
          },
          "execution_count": 25
        },
        {
          "output_type": "display_data",
          "data": {
            "image/png": "[encoded data removed]",
            "text/plain": [
              "<Figure size 432x288 with 1 Axes>"
            ]
          },
          "metadata": {
            "tags": [],
            "needs_background": "light"
          }
        }
      ]
    },
    {
      "cell_type": "code",
      "metadata": {
        "colab": {
          "base_uri": "https://localhost:8080/",
          "height": 295
        },
        "id": "5y1Yog9iXzFR",
        "outputId": "4828e181-42fe-40fc-f346-628d33a0bea3"
      },
      "source": [
        "iters=np.arange(epochs*len(x))\n",
        "plt.plot(iters,err,'green')\n",
        "plt.title(\"Error graph for training data\")\n",
        "plt.xlabel(\"iteration count\")\n",
        "plt.ylabel(\"error\")\n",
        "plt.grid()"
      ],
      "execution_count": 26,
      "outputs": [
        {
          "output_type": "display_data",
          "data": {
            "image/png": "[encoded data removed]",
            "text/plain": [
              "<Figure size 432x288 with 1 Axes>"
            ]
          },
          "metadata": {
            "tags": [],
            "needs_background": "light"
          }
        }
      ]
    },
    {
      "cell_type": "markdown",
      "metadata": {
        "id": "XrAyNCQ6X9My"
      },
      "source": [
        "**Testing** **Data :**"
      ]
    },
    {
      "cell_type": "code",
      "metadata": {
        "colab": {
          "base_uri": "https://localhost:8080/"
        },
        "id": "hXVqhuMBX_Km",
        "outputId": "8c289152-62a3-4a76-f6ff-492318c95ab3"
      },
      "source": [
        "tx=[]\n",
        "ty=[]\n",
        "for i in range(len(test_data.iloc[:,0])-24):\n",
        "    tx.append(test_data.iloc[i,0])\n",
        "    ty.append(test_data.iloc[i+24,0])\n",
        "\n",
        "yp1=[]\n",
        "for i in range(len(tx)):\n",
        "  p1=m*tx[i]+c\n",
        "  yp1.append(p1)\n",
        "sum=0\n",
        "s2=0\n",
        "for i in range(len(tx)):\n",
        "  sum+=(ty[i]-yp1[i])**2\n",
        "  s2+=ty[i]-yp1[i]\n",
        "mse1=sum/len(tx)\n",
        "mae1=s2/len(tx)\n",
        "print(\"Mean Square Error for testing data (MSE) : \",mse1)\n",
        "print(\"Root Mean Square Error for testing data (RMSE) : \",mse1**0.5)\n",
        "print(\"Mean Absolute Error for testing data (MAE) : \",mae1)"
      ],
      "execution_count": 29,
      "outputs": [
        {
          "output_type": "stream",
          "text": [
            "Mean Square Error for testing data (MSE) :  0.04213951237968334\n",
            "Root Mean Square Error for testing data (RMSE) :  0.2052791084832632\n",
            "Mean Absolute Error for testing data (MAE) :  -0.04880331793856492\n"
          ],
          "name": "stdout"
        }
      ]
    },
    {
      "cell_type": "code",
      "metadata": {
        "colab": {
          "base_uri": "https://localhost:8080/",
          "height": 266
        },
        "id": "PnSwboiOYnXJ",
        "outputId": "3aca448d-dea9-4bdd-cf0d-d05f57d084a0"
      },
      "source": [
        "plt.scatter(tx,ty,color='red')\n",
        "plt.plot(tx,yp1,'green')\n",
        "plt.grid()"
      ],
      "execution_count": 30,
      "outputs": [
        {
          "output_type": "display_data",
          "data": {
            "image/png": "[encoded data removed]",
            "text/plain": [
              "<Figure size 432x288 with 1 Axes>"
            ]
          },
          "metadata": {
            "tags": [],
            "needs_background": "light"
          }
        }
      ]
    },
    {
      "cell_type": "markdown",
      "metadata": {
        "id": "KMzzbt9UYx-U"
      },
      "source": [
        "**Predict** **Output**"
      ]
    },
    {
      "cell_type": "code",
      "metadata": {
        "colab": {
          "base_uri": "https://localhost:8080/"
        },
        "id": "EcjF_NvfY0-U",
        "outputId": "dc37cef0-f644-43cb-ca9b-1d3ddb0c53a8"
      },
      "source": [
        "x_max=y_max= 8841.669480\n",
        "x_min=y_min= 3377.919600\n",
        "x2= float(input(\"Enter load of previous hour : \"))\n",
        "xi=(x2-x_min)/(x_max-x_min)\n",
        "yi=m*xi+c\n",
        "yi=yi*(y_max-y_min)+y_min\n",
        "print(\"Load at hour based on its previous hour {} is : {}\".format(x2,yi))"
      ],
      "execution_count": 31,
      "outputs": [
        {
          "output_type": "stream",
          "text": [
            "Enter load of previous hour : 5138.896\n",
            "Load at hour based on its previous hour 5138.896 is : 6385.139154917786\n"
          ],
          "name": "stdout"
        }
      ]
    }
  ]
}