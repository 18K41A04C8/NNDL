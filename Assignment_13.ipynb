{
  "nbformat": 4,
  "nbformat_minor": 0,
  "metadata": {
    "colab": {
      "name": "Assignment-13",
      "provenance": [],
      "collapsed_sections": []
    },
    "kernelspec": {
      "name": "python3",
      "display_name": "Python 3"
    },
    "language_info": {
      "name": "python"
    }
  },
  "cells": [
    {
      "cell_type": "markdown",
      "metadata": {
        "id": "acufo3XeCsek"
      },
      "source": [
        "**ADAGRAD Optimizer:**"
      ]
    },
    {
      "cell_type": "markdown",
      "metadata": {
        "id": "mqP08KJLC_j2"
      },
      "source": [
        "Develop a simple linear regression model using ADAGRAD optimizer."
      ]
    },
    {
      "cell_type": "code",
      "metadata": {
        "colab": {
          "base_uri": "https://localhost:8080/"
        },
        "id": "PuLe7G68CzeE",
        "outputId": "29d0f0a3-006f-49bd-e2a6-73d8885cab6b"
      },
      "source": [
        "x=[0.2,0.4,0.6,0.8]\n",
        "y=[3.4,3.8,4.2,4.6]  #x and y values\n",
        "m=1\n",
        "c=-1\n",
        "epochs=100 #epochs\n",
        "Gm=0\n",
        "Gc=0\n",
        "l=0.1   #learning rate\n",
        "e=10**(-8)\n",
        "for i in range(epochs):\n",
        "  for j in range(len(x)):\n",
        "    gm=-(y[j]-m*x[j]-c)*(x[j])\n",
        "    gc=-(y[j]-m*x[j]-c)\n",
        "    Gm=Gm+(gm**2)\n",
        "    Gc=Gc+(gc**2)\n",
        "    d_m=-((l)/(Gm+e)**(0.5))*(gm)\n",
        "    d_c=-((l)/(Gc+e)**(0.5))*(gc)\n",
        "    m=m+d_m\n",
        "    c=c+d_c\n",
        "print(\"The minimum value obtained at m=%.2f\"%(m),\", c=%.2f\"%(c))  #print values m and c"
      ],
      "execution_count": null,
      "outputs": [
        {
          "output_type": "stream",
          "text": [
            "The minimum value obtained at m=3.45 , c=1.66\n"
          ],
          "name": "stdout"
        }
      ]
    },
    {
      "cell_type": "code",
      "metadata": {
        "colab": {
          "base_uri": "https://localhost:8080/",
          "height": 295
        },
        "id": "a5TkRbhgGkjn",
        "outputId": "17b7f063-bb75-4fb1-a985-9c620e9cf90e"
      },
      "source": [
        "import matplotlib.pyplot as plt\n",
        "import numpy as np\n",
        "x1=np.linspace(-5,5,100)\n",
        "m=round(m,2)\n",
        "c=round(c,2)\n",
        "y1=m*x1+c\n",
        "plt.plot(x1,y1,'-r',label='y='+str(m)+'x+'+str(c))\n",
        "plt.title('Graph of '+'y='+str(m)+'x+'+str(c))\n",
        "plt.xlabel('x',color='#1C2833')\n",
        "plt.ylabel('y',color='#1C2833')\n",
        "plt.legend(loc='upper left')\n",
        "plt.grid()\n",
        "plt.show()"
      ],
      "execution_count": null,
      "outputs": [
        {
          "output_type": "display_data",
          "data": {
            "image/png": "[encoded data removed]",
            "text/plain": [
              "<Figure size 432x288 with 1 Axes>"
            ]
          },
          "metadata": {
            "tags": [],
            "needs_background": "light"
          }
        }
      ]
    },
    {
      "cell_type": "code",
      "metadata": {
        "colab": {
          "base_uri": "https://localhost:8080/"
        },
        "id": "qHEQo9teG4X9",
        "outputId": "474b2cd2-db79-4f54-bb9f-4c60fe058739"
      },
      "source": [
        "yp=[]\n",
        "for i in range(len(x)):\n",
        "  p=(m*x[i])+c\n",
        "  yp.append(p)\n",
        "sum=0\n",
        "for i in range(len(x)):\n",
        "  sum+=(y[i]-yp[i])**2\n",
        "mse=sum/len(x)\n",
        "print(\"Mean Square Error (MSE) : \",mse)"
      ],
      "execution_count": null,
      "outputs": [
        {
          "output_type": "stream",
          "text": [
            "Mean Square Error (MSE) :  0.48334999999999995\n"
          ],
          "name": "stdout"
        }
      ]
    }
  ]
}